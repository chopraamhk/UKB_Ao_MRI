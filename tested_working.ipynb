{
 "cells": [
  {
   "cell_type": "code",
   "execution_count": 1,
   "id": "f80b87b6",
   "metadata": {},
   "outputs": [],
   "source": [
    "import os\n",
    "import nibabel as nib\n",
    "import numpy as np\n",
    "import pandas as pd\n",
    "import pprint\n",
    "import gzip\n",
    "import matplotlib.pyplot as plt\n",
    "import nrrd\n",
    "import skimage \n",
    "import SimpleITK as sitk"
   ]
  },
  {
   "cell_type": "code",
   "execution_count": 2,
   "id": "c5634585",
   "metadata": {},
   "outputs": [],
   "source": [
    "os.chdir(\"/home/mchopra/Documents/PhD-Year1/segmentation_test/patient_3_1092403/\")"
   ]
  },
  {
   "cell_type": "code",
   "execution_count": 3,
   "id": "3741cabf",
   "metadata": {},
   "outputs": [
    {
     "name": "stdout",
     "output_type": "stream",
     "text": [
      "Chris Rorden's dcm2niiX version v1.0.20220505  GCC11.3.0 x86-64 (64-bit Linux)\n",
      "Found 100 DICOM file(s)\n",
      "Warning: All images appear to be a single slice - please check slice/vector orientation\n",
      "Convert 100 DICOM as /home/mchopra/Documents/PhD-Year1/segmentation_test/patient_3_1092403/patient_3_1092403_CINE_segmented_Ao_dist_20150412115656_20d (240x196x1x100)\n",
      "Warning: Check that 2D images are not mirrored.\n",
      "Conversion required 0.070519 seconds (0.035641 for core code).\n"
     ]
    }
   ],
   "source": [
    "!dcm2niix -ba y -b y /home/mchopra/Documents/PhD-Year1/segmentation_test/patient_3_1092403/"
   ]
  },
  {
   "cell_type": "code",
   "execution_count": 4,
   "id": "8a113e4b",
   "metadata": {},
   "outputs": [
    {
     "name": "stdout",
     "output_type": "stream",
     "text": [
      "(240, 196, 1, 100)\n"
     ]
    }
   ],
   "source": [
    "nifti_path = \"patient_3_1092403_CINE_segmented_Ao_dist_20150412115656_20.nii\"  # Replace with the path to your NIfTI file\n",
    "nifti_image = nib.load(nifti_path)\n",
    "\n",
    "#get the shape of image data \n",
    "#data_shape = nifti_img.shape \n",
    "\n",
    "# Check the dimensions of the NIfTI image\n",
    "print(nifti_image.shape)"
   ]
  },
  {
   "cell_type": "code",
   "execution_count": 5,
   "id": "deaf0154",
   "metadata": {},
   "outputs": [],
   "source": [
    "img_np = nifti_image.get_fdata()"
   ]
  },
  {
   "cell_type": "code",
   "execution_count": 6,
   "id": "28d7ed90",
   "metadata": {
    "scrolled": false
   },
   "outputs": [
    {
     "name": "stdout",
     "output_type": "stream",
     "text": [
      "<class 'nibabel.nifti1.Nifti1Header'> object, endian='<'\n",
      "sizeof_hdr      : 348\n",
      "data_type       : b''\n",
      "db_name         : b''\n",
      "extents         : 0\n",
      "session_error   : 0\n",
      "regular         : b'r'\n",
      "dim_info        : 57\n",
      "dim             : [  4 240 196   1 100   1   1   1]\n",
      "intent_p1       : 0.0\n",
      "intent_p2       : 0.0\n",
      "intent_p3       : 0.0\n",
      "intent_code     : none\n",
      "datatype        : int16\n",
      "bitpix          : 16\n",
      "slice_start     : 0\n",
      "pixdim          : [-1.         1.5833334  1.5833334  6.         0.028      0.\n",
      "  0.         0.       ]\n",
      "vox_offset      : 0.0\n",
      "scl_slope       : nan\n",
      "scl_inter       : nan\n",
      "slice_end       : 0\n",
      "slice_code      : unknown\n",
      "xyzt_units      : 10\n",
      "cal_max         : 0.0\n",
      "cal_min         : 0.0\n",
      "slice_duration  : 0.0\n",
      "toffset         : 0.0\n",
      "glmax           : 0\n",
      "glmin           : 0\n",
      "descrip         : b'TE=1.2;Time=120806.985;phase=1'\n",
      "aux_file        : b'RR 957 +/- 12; 9 heartb'\n",
      "qform_code      : scanner\n",
      "sform_code      : scanner\n",
      "quatern_b       : 0.0\n",
      "quatern_c       : 1.0\n",
      "quatern_d       : 0.0\n",
      "qoffset_x       : 154.99799\n",
      "qoffset_y       : -198.27054\n",
      "qoffset_z       : 134.821\n",
      "srow_x          : [ -1.5833334   0.         -0.        154.99799  ]\n",
      "srow_y          : [  -0.           1.5833334   -0.        -198.27054  ]\n",
      "srow_z          : [  0.      0.      6.    134.821]\n",
      "intent_name     : b''\n",
      "magic           : b'n+1'\n"
     ]
    }
   ],
   "source": [
    "# Access the header information\n",
    "header = nifti_image.header\n",
    "\n",
    "# Print the header information\n",
    "print(header)"
   ]
  },
  {
   "cell_type": "code",
   "execution_count": 7,
   "id": "b389740a",
   "metadata": {},
   "outputs": [
    {
     "name": "stdout",
     "output_type": "stream",
     "text": [
      "(240, 196, 1, 100)\n"
     ]
    }
   ],
   "source": [
    "seg_path = \"segmentation_all.nii.gz\"  # Replace with the path to your NIfTI file #segmentation using ITK\n",
    "seg_image = nib.load(seg_path)\n",
    "\n",
    "#get the shape of image data \n",
    "#data_shape = nifti_img.shape \n",
    "\n",
    "# Check the dimensions of the NIfTI image\n",
    "print(seg_image.shape)"
   ]
  },
  {
   "cell_type": "code",
   "execution_count": 8,
   "id": "5d724ff4",
   "metadata": {},
   "outputs": [
    {
     "data": {
      "text/plain": [
       "428.0"
      ]
     },
     "execution_count": 8,
     "metadata": {},
     "output_type": "execute_result"
    }
   ],
   "source": [
    "np.max(img_np)"
   ]
  },
  {
   "cell_type": "code",
   "execution_count": 9,
   "id": "99ba76bc",
   "metadata": {},
   "outputs": [],
   "source": [
    "seg_np = seg_image.get_fdata() ##np is numpy"
   ]
  },
  {
   "cell_type": "code",
   "execution_count": 10,
   "id": "5354112f",
   "metadata": {},
   "outputs": [
    {
     "name": "stdout",
     "output_type": "stream",
     "text": [
      "<class 'nibabel.nifti1.Nifti1Header'> object, endian='<'\n",
      "sizeof_hdr      : 348\n",
      "data_type       : b''\n",
      "db_name         : b''\n",
      "extents         : 0\n",
      "session_error   : 0\n",
      "regular         : b'r'\n",
      "dim_info        : 0\n",
      "dim             : [  4 240 196   1 100   1   1   1]\n",
      "intent_p1       : 0.0\n",
      "intent_p2       : 0.0\n",
      "intent_p3       : 0.0\n",
      "intent_code     : none\n",
      "datatype        : uint16\n",
      "bitpix          : 16\n",
      "slice_start     : 0\n",
      "pixdim          : [-1.         1.5833334  1.5833334  6.         0.028      0.\n",
      "  0.         0.       ]\n",
      "vox_offset      : 0.0\n",
      "scl_slope       : nan\n",
      "scl_inter       : nan\n",
      "slice_end       : 0\n",
      "slice_code      : unknown\n",
      "xyzt_units      : 2\n",
      "cal_max         : 0.0\n",
      "cal_min         : 0.0\n",
      "slice_duration  : 0.0\n",
      "toffset         : 0.0\n",
      "glmax           : 0\n",
      "glmin           : 0\n",
      "descrip         : b''\n",
      "aux_file        : b''\n",
      "qform_code      : scanner\n",
      "sform_code      : scanner\n",
      "quatern_b       : -0.0\n",
      "quatern_c       : 1.0\n",
      "quatern_d       : 0.0\n",
      "qoffset_x       : 154.99799\n",
      "qoffset_y       : -198.27054\n",
      "qoffset_z       : 134.821\n",
      "srow_x          : [ -1.5833334  -0.          0.        154.99799  ]\n",
      "srow_y          : [  -0.           1.5833334   -0.        -198.27054  ]\n",
      "srow_z          : [  0.      0.      6.    134.821]\n",
      "intent_name     : b''\n",
      "magic           : b'n+1'\n"
     ]
    }
   ],
   "source": [
    "# Access the header information\n",
    "header2 = seg_image.header\n",
    "\n",
    "# Print the header information\n",
    "print(header2)"
   ]
  },
  {
   "cell_type": "code",
   "execution_count": 11,
   "id": "0a59b798",
   "metadata": {},
   "outputs": [
    {
     "name": "stdout",
     "output_type": "stream",
     "text": [
      "[  0.   1.   2.   3.   4.   5.   6.   7.   8.   9.  10.  11.  12.  13.\n",
      "  14.  15.  16.  17.  18.  19.  20.  21.  22.  23.  24.  25.  26.  27.\n",
      "  28.  29.  30.  31.  32.  33.  34.  35.  36.  37.  38.  39.  40.  41.\n",
      "  42.  43.  44.  45.  46.  47.  48.  49.  50.  51.  52.  53.  54.  55.\n",
      "  56.  57.  58.  59.  60.  61.  62.  63.  64.  65.  66.  67.  68.  69.\n",
      "  70.  71.  72.  73.  74.  75.  76.  77.  78.  79.  80.  81.  82.  83.\n",
      "  84.  85.  86.  87.  88.  89.  90.  91.  92.  93.  94.  95.  96.  97.\n",
      "  98.  99. 100. 101. 102. 103. 104. 105. 106. 107. 108. 109. 110. 111.\n",
      " 112. 113. 114. 115. 116. 117. 118. 119. 120. 121. 122. 123. 124. 125.\n",
      " 126. 127. 128. 129. 130. 131. 132. 133. 134. 135. 136. 137. 138. 139.\n",
      " 140. 141. 142. 143. 144. 145. 146. 147. 148. 149. 150. 151. 152. 153.\n",
      " 154. 155. 156. 157. 158. 159. 160. 161. 162. 163. 164. 165. 166. 167.\n",
      " 168. 169. 170. 171. 172. 173. 174. 175. 176. 177. 178. 179. 180. 181.\n",
      " 182. 183. 184. 185. 186. 187. 188. 189. 190. 191. 192. 193. 194. 195.\n",
      " 196. 197. 198. 199. 200. 201. 202. 203. 204. 205. 206. 207. 208. 209.\n",
      " 210. 211. 212. 213. 214. 215. 216. 217. 218. 219. 220. 221. 222. 223.\n",
      " 224. 225. 226. 227. 228. 229. 230. 231. 232. 233. 234. 235. 236. 237.\n",
      " 238. 239. 240. 241. 242. 243. 244. 245. 246. 247. 248. 249. 250. 251.\n",
      " 252. 253. 254. 255. 256. 257. 258. 259. 260. 261. 262. 263. 264. 265.\n",
      " 266. 267. 268. 269. 270. 271. 272. 273. 274. 275. 276. 277. 278. 279.\n",
      " 280. 281. 282. 283. 284. 285. 286. 287. 288. 289. 290. 291. 292. 293.\n",
      " 294. 295. 296. 297. 298. 299. 300. 301. 302. 303. 304. 305. 306. 307.\n",
      " 308. 309. 310. 311. 312. 313. 314. 315. 316. 317. 318. 319. 320. 321.\n",
      " 322. 323. 324. 325. 326. 327. 328. 329. 330. 331. 332. 333. 334. 335.\n",
      " 336. 337. 338. 339. 340. 341. 342. 343. 344. 345. 346. 347. 348. 349.\n",
      " 350. 351. 352. 353. 354. 355. 356. 357. 358. 359. 360. 361. 362. 363.\n",
      " 364. 365. 366. 367. 368. 369. 370. 371. 372. 373. 374. 375. 376. 377.\n",
      " 378. 379. 380. 381. 382. 383. 384. 385. 386. 387. 388. 389. 390. 391.\n",
      " 392. 393. 394. 395. 396. 397. 398. 399. 400. 401. 402. 403. 404. 405.\n",
      " 406. 407. 408. 409. 410. 411. 412. 413. 414. 415. 417. 418. 419. 420.\n",
      " 421. 422. 423. 424. 425. 426. 427. 428.]\n"
     ]
    }
   ],
   "source": [
    "img_name = 'patient_3_1092403_CINE_segmented_Ao_dist_20150412115656_20.nii'\n",
    "\n",
    "# Load the segmentation data\n",
    "nim_img = nib.load(img_name)\n",
    "image = nim_img.get_fdata()\n",
    "\n",
    "# Print unique voxel labels\n",
    "unique_labels = np.unique(image)\n",
    "print(unique_labels)"
   ]
  },
  {
   "cell_type": "code",
   "execution_count": 12,
   "id": "958ff3b6",
   "metadata": {},
   "outputs": [
    {
     "name": "stdout",
     "output_type": "stream",
     "text": [
      "[0. 1. 2.]\n"
     ]
    }
   ],
   "source": [
    "seg_name = 'segmentation_all.nii.gz'\n",
    "\n",
    "# Load the segmentation data\n",
    "nim_seg = nib.load(seg_name)\n",
    "seg = nim_seg.get_fdata()\n",
    "\n",
    "# Print unique voxel labels\n",
    "unique_labels = np.unique(seg)\n",
    "print(unique_labels)"
   ]
  },
  {
   "cell_type": "code",
   "execution_count": 13,
   "id": "f1471d5c",
   "metadata": {},
   "outputs": [
    {
     "data": {
      "image/png": "[encoded data removed]",
      "text/plain": [
       "<Figure size 640x480 with 1 Axes>"
      ]
     },
     "metadata": {},
     "output_type": "display_data"
    }
   ],
   "source": [
    "# Display the image data at time frame 2\n",
    "image_frame1 = img_np[:, :, :, 1]  # Assuming the image data is stored in the 'image_np' variable\n",
    "plt.imshow(image_frame1, cmap='gray')\n",
    "plt.title('Image Data at Time Frame 2')\n",
    "plt.show()"
   ]
  },
  {
   "cell_type": "code",
   "execution_count": 14,
   "id": "97e2ada8",
   "metadata": {},
   "outputs": [
    {
     "data": {
      "image/png": "[encoded data removed]",
      "text/plain": [
       "<Figure size 640x480 with 1 Axes>"
      ]
     },
     "metadata": {},
     "output_type": "display_data"
    }
   ],
   "source": [
    "# Visualize the segmentation at time frame 2\n",
    "seg_frame1 = seg_np[:, :, :, 99]  # Assuming the segmentation is stored in the 'seg_np' variable\n",
    "plt.imshow(seg_frame1, cmap='gray')\n",
    "plt.title('Segmentation at Time Frame 2')\n",
    "plt.show()"
   ]
  },
  {
   "cell_type": "code",
   "execution_count": 15,
   "id": "1a4a900d",
   "metadata": {},
   "outputs": [
    {
     "name": "stdout",
     "output_type": "stream",
     "text": [
      "15.041667421658843\n"
     ]
    }
   ],
   "source": [
    "im = sitk.ReadImage(\"segmentation_all.nii.gz\")\n",
    "\n",
    "# get voxel spacing (for 3-D image)\n",
    "spacing = im.GetSpacing()\n",
    "spacing_x = spacing[0]\n",
    "spacing_y = spacing[1]\n",
    "spacing_z = spacing[2]\n",
    "\n",
    "# determine volume of a single voxel\n",
    "voxel_volume = spacing_x * spacing_y * spacing_z\n",
    "\n",
    "print(voxel_volume)"
   ]
  },
  {
   "cell_type": "code",
   "execution_count": 16,
   "id": "4c105612",
   "metadata": {},
   "outputs": [],
   "source": [
    "# Adjust the quality control criteria\n",
    "#min_area_threshold = 0.5  # Adjust this threshold as needed\n",
    "T = seg_np.shape[3]\n",
    "\n",
    "def aorta_pass_quality_control(image, seg):\n",
    "    \"\"\" Quality control for aortic segmentation \"\"\"\n",
    "    for l_name, l in [('AAo', 1), ('DAo', 2)]:\n",
    "        # Criterion 1: the aorta does not disappear at some point.\n",
    "        T = seg.shape[3]\n",
    "        for t in range(T):\n",
    "            seg_t = seg[:, :, :, t]\n",
    "            area = np.sum(seg_t == l)\n",
    "            if area == 0:\n",
    "                print('The area of {0} is 0 at time frame {1}.'.format(l_name, t))\n",
    "                return False\n",
    "\n",
    "        # Criterion 2: no strong image noise, which affects the segmentation accuracy.\n",
    "        image_ED = image[:, :, :, 0]\n",
    "        seg_ED = seg[:, :, :, 0]\n",
    "        mean_intensity_ED = image_ED[seg_ED == l].mean()\n",
    "        ratio_thres = 3\n",
    "        for t in range(T):\n",
    "            image_t = image[:, :, :, t]\n",
    "            seg_t = seg[:, :, :, t]\n",
    "            max_intensity_t = np.max(image_t[seg_t == l])\n",
    "            ratio = max_intensity_t / mean_intensity_ED\n",
    "            if ratio >= ratio_thres:\n",
    "                print('The image becomes very noisy at time frame {0}.'.format(t))\n",
    "                return False\n",
    "\n",
    "        # Criterion 3: no fragmented segmentation\n",
    "        pixel_thres = 10\n",
    "        for t in range(T):\n",
    "            seg_t = seg[:, :, :, t]\n",
    "            cc, n_cc = skimage.measure.label(seg_t == l, background=8, return_num=True)\n",
    "            count_cc = 0\n",
    "            for i in range(1, n_cc + 1):\n",
    "                binary_cc = (cc == i)\n",
    "                if np.sum(binary_cc) > pixel_thres:\n",
    "                    # If this connected component has more than certain pixels, count it.\n",
    "                    count_cc += 1\n",
    "            if count_cc >= 2:\n",
    "                print('The segmentation has at least two connected components with more than {0} pixels '\n",
    "                      'at time frame {1}.'.format(pixel_thres, t))\n",
    "                return False\n",
    "\n",
    "        # Criterion 4: no abrupt change of area\n",
    "        A = np.sum(seg == l, axis=(0, 1, 2))\n",
    "        for t in range(T):\n",
    "            ratio = A[t] / float(A[t-1])\n",
    "            if ratio >= 2 or ratio <= 0.5:\n",
    "                print('There is abrupt change of area at time frame {0}.'.format(t))\n",
    "                return False\n",
    "    return True"
   ]
  },
  {
   "cell_type": "markdown",
   "id": "e93effe0",
   "metadata": {},
   "source": [
    "Explaination of Quality check case 1\n",
    "```python\n",
    "for l_name, l in [('AAo', 1), ('DAo', 2)]:\n",
    "```\n",
    "This line sets up a loop that iterates over a list of tuples containing the names and labels of two regions of interest: 'AAo' with a label of 1 and 'DAo' with a label of 2. During each iteration, the name is assigned to `l_name` and the label to `l`.\n",
    "\n",
    "```python\n",
    "    T = seg.shape[3]\n",
    "```\n",
    "This line calculates the number of time frames in the `seg` array. `seg` is assumed to be a 4-dimensional array, and `seg.shape[3]` retrieves the size of the fourth dimension, representing time.\n",
    "\n",
    "```python\n",
    "    for t in range(T):\n",
    "```\n",
    "This line sets up another loop that iterates over the range of time frames, starting from 0 and ending at `T-1`.\n",
    "\n",
    "```python\n",
    "        seg_t = seg[:, :, :, t]\n",
    "```\n",
    "This line selects the 3D slice of `seg` corresponding to the current time frame `t` using array indexing. The `seg_t` variable will represent the segmented image at that specific time frame.\n",
    "\n",
    "```python\n",
    "        area = np.sum(seg_t == l)\n",
    "```\n",
    "This line calculates the area of the region labeled as `l` in the `seg_t` image. It does so by comparing each element of `seg_t` to `l` and summing up the occurrences where the comparison is true. The result is stored in the `area` variable.\n",
    "\n",
    "```python\n",
    "        if area == 0:\n",
    "            print('The area of {0} is 0 at time frame {1}.'.format(l_name, t))\n",
    "            return False\n",
    "```\n",
    "This conditional statement checks if the area of the region labeled as `l` is zero for the current time frame `t`. If the area is indeed zero, it means that the aorta has disappeared or is not present in the segmentation. In that case, it prints a message indicating the region name and the time frame where it occurs, and then returns `False` to indicate that the quality control check has failed.\n",
    "\n",
    "The code you provided seems to be a quality control check for aortic segmentation, ensuring that the aorta is not missing in any time frame. If the aorta is missing in any time frame, the code will print a message and return `False`."
   ]
  },
  {
   "cell_type": "markdown",
   "id": "f961ca2a",
   "metadata": {},
   "source": [
    "Explaination of Quality check case 2\n",
    "```python\n",
    "# Criterion 2: no strong image noise, which affects the segmentation accuracy.\n",
    "image_ED = image[:, :, :, 0]\n",
    "seg_ED = seg[:, :, :, 0]\n",
    "mean_intensity_ED = image_ED[seg_ED == l].mean()\n",
    "ratio_thres = 3\n",
    "```\n",
    "These lines initialize some variables and perform calculations related to image intensity and noise. \n",
    "\n",
    "- `image_ED` selects the first time frame (index 0) from the 4-dimensional `image` array, resulting in a 3-dimensional image array.\n",
    "- `seg_ED` selects the first time frame (index 0) from the 4-dimensional `seg` array, resulting in a 3-dimensional segmentation array.\n",
    "- `mean_intensity_ED` calculates the mean intensity of the pixels in `image_ED` where the corresponding pixel in `seg_ED` is equal to the label `l`.\n",
    "\n",
    "The `ratio_thres` variable is set to 3, representing a threshold for the intensity ratio.\n",
    "\n",
    "```python\n",
    "for t in range(T):\n",
    "    image_t = image[:, :, :, t]\n",
    "    seg_t = seg[:, :, :, t]\n",
    "    max_intensity_t = np.max(image_t[seg_t == l])\n",
    "    ratio = max_intensity_t / mean_intensity_ED\n",
    "    if ratio >= ratio_thres:\n",
    "        print('The image becomes very noisy at time frame {0}.'.format(t))\n",
    "        return False\n",
    "```\n",
    "These lines set up a loop that iterates over the range of time frames.\n",
    "\n",
    "Within the loop:\n",
    "- `image_t` and `seg_t` select the 3-dimensional image and segmentation arrays for the current time frame `t`.\n",
    "- `max_intensity_t` calculates the maximum intensity value within `image_t` where the corresponding pixel in `seg_t` is equal to the label `l`.\n",
    "- `ratio` calculates the ratio of `max_intensity_t` to `mean_intensity_ED`, representing the relative intensity compared to the mean intensity of the first time frame.\n",
    "- The conditional statement checks if `ratio` is greater than or equal to the `ratio_thres` threshold. If it is, it means that the image at time frame `t` is very noisy compared to the first time frame. In that case, it prints a message indicating the time frame and returns `False` to indicate that the quality control check has failed.\n",
    "\n",
    "Overall, this part of the code is responsible for checking the presence of strong image noise that might affect the accuracy of the segmentation. If the intensity ratio between a specific time frame and the first time frame exceeds a threshold, it prints a message and returns `False`."
   ]
  },
  {
   "cell_type": "markdown",
   "id": "9e8eb821",
   "metadata": {},
   "source": [
    "Explaination of Quality check case 3\n",
    "\n",
    "```python\n",
    "# Criterion 3: no fragmented segmentation\n",
    "pixel_thres = 10\n",
    "```\n",
    "This line sets the threshold value for the minimum number of pixels required for a connected component to be considered significant. In this case, `pixel_thres` is set to 10.\n",
    "\n",
    "```python\n",
    "for t in range(T):\n",
    "    seg_t = seg[:, :, :, t]\n",
    "    cc, n_cc = skimage.measure.label(seg_t == l, background=8, return_num=True)\n",
    "    count_cc = 0\n",
    "    for i in range(1, n_cc + 1):\n",
    "        binary_cc = (cc == i)\n",
    "        if np.sum(binary_cc) > pixel_thres:\n",
    "            # If this connected component has more than certain pixels, count it.\n",
    "            count_cc += 1\n",
    "    if count_cc >= 2:\n",
    "        print('The segmentation has at least two connected components with more than {0} pixels '\n",
    "              'at time frame {1}.'.format(pixel_thres, t))\n",
    "        return False\n",
    "```\n",
    "These lines set up a loop that iterates over the range of time frames.\n",
    "\n",
    "Within the loop:\n",
    "- `seg_t` selects the 3-dimensional segmentation array for the current time frame `t`.\n",
    "- `cc, n_cc = skimage.measure.label(seg_t == l, background=8, return_num=True)` labels the connected components in `seg_t` that have the label `l`. It assigns unique labels to each connected component and returns the labeled array (`cc`) and the number of connected components (`n_cc`).\n",
    "- `count_cc` is initialized to 0 and will be used to count the number of connected components that meet the size threshold.\n",
    "- The inner loop iterates over the range from 1 to `n_cc + 1`, representing the unique labels of the connected components.\n",
    "- For each connected component, `binary_cc = (cc == i)` creates a binary mask where `True` indicates the pixels belonging to the connected component with label `i`.\n",
    "- The conditional statement `if np.sum(binary_cc) > pixel_thres` checks if the connected component has more pixels than the `pixel_thres` threshold.\n",
    "- If a connected component meets the size threshold, `count_cc` is incremented by 1.\n",
    "- After iterating over all connected components, the final conditional statement `if count_cc >= 2` checks if there are at least two connected components that meet the size threshold. If there are, it prints a message indicating the time frame and returns `False` to indicate that the quality control check has failed.\n",
    "\n",
    "This code is responsible for checking the segmentation for fragmented regions, specifically aiming to ensure that there are no less significant connected components with fewer pixels than the specified threshold (`pixel_thres`). If there are at least two significant connected components in a time frame, it prints a message and returns `False`."
   ]
  },
  {
   "cell_type": "code",
   "execution_count": null,
   "id": "9abae304",
   "metadata": {},
   "outputs": [],
   "source": []
  },
  {
   "cell_type": "code",
   "execution_count": 17,
   "id": "8da3ced3",
   "metadata": {},
   "outputs": [
    {
     "data": {
      "text/plain": [
       "True"
      ]
     },
     "execution_count": 17,
     "metadata": {},
     "output_type": "execute_result"
    }
   ],
   "source": [
    "aorta_pass_quality_control(img_np, seg_np)"
   ]
  },
  {
   "cell_type": "code",
   "execution_count": 18,
   "id": "9c20a01b",
   "metadata": {},
   "outputs": [],
   "source": [
    "data_path = '.'\n",
    "# data_list = sorted(os.listdir(data_path))\n",
    "table = []\n",
    "# processed_list = []\n",
    "# for data in data_list:\n",
    "data_dir = os.path.join(data_path)\n",
    "    \n",
    "image_name = os.path.join(data_dir, 'patient_3_1092403_CINE_segmented_Ao_dist_20150412115656_20.nii')\n",
    "seg_name = os.path.join(data_dir, 'segmentation_all.nii.gz')\n",
    "\n",
    "if os.path.exists(image_name) and os.path.exists(seg_name):\n",
    "   # print('data')\n",
    "    \n",
    "    \n",
    "\n",
    "    # Read image\n",
    "    nim = nib.load(image_name)\n",
    "    dx, dy = nim.header['pixdim'][1:3]\n",
    "    area_per_pixel = dx * dy\n",
    "    image = nim.get_fdata()\n",
    "\n",
    "    # Read segmentation\n",
    "    nim = nib.load(seg_name)\n",
    "    seg = nim.get_fdata()\n",
    "\n",
    "  #  image_data = image_nim.get_fdata()\n",
    "   # seg_data = seg_nim.get_fdata()\n",
    "\n",
    "   # try:\n",
    "    #   nifti_image = nib.load(image_name)\n",
    "     #  print(\"Image loaded successfully.\")\n",
    "   # except FileNotFoundError:\n",
    "      # print(\"File not found.\")\n",
    "   # if not os.path.exists(image_name) and os.path.exists(seg_name):\n",
    "   #  print(\"segmentation file does not exist\")\n",
    "\n",
    "    # if not aorta_pass_quality_control(image, seg):\n",
    "        \n",
    "\n",
    "    # Measure the maximal and minimal area for the ascending aorta and descending aorta\n",
    "    val = {}\n",
    "    for l_name, l in [('AAo', 1), ('DAo', 2)]:\n",
    "        val[l_name] = {}\n",
    "        A = np.sum(seg == l, axis=(0, 1, 2)) * area_per_pixel\n",
    "        val[l_name]['max area'] = A.max()\n",
    "        val[l_name]['min area'] = A.min()\n",
    "       # val[l_name]['distensibility'] = (A.max() - A.min()) / (A.min() * central_pp.loc[int(data)]) * 1e3\n",
    "\n",
    "    line = [val['AAo']['max area'], val['AAo']['min area'],\n",
    "            val['DAo']['max area'], val['DAo']['min area']]\n",
    "    table += [line]\n",
    "    # processed_list += [data]\n",
    "\n",
    "# Save the spreadsheet for the measures\n",
    "df = pd.DataFrame(table, index=[0],\n",
    "                  columns=['AAo max area (mm2)', 'AAo min area (mm2)',\n",
    "                           'DAo max area (mm2)', 'DAo min area (mm2)'])\n",
    "df.to_csv('test1.csv')"
   ]
  },
  {
   "cell_type": "code",
   "execution_count": 19,
   "id": "4572efaf",
   "metadata": {},
   "outputs": [
    {
     "data": {
      "text/html": [
       "<div>\n",
       "<style scoped>\n",
       "    .dataframe tbody tr th:only-of-type {\n",
       "        vertical-align: middle;\n",
       "    }\n",
       "\n",
       "    .dataframe tbody tr th {\n",
       "        vertical-align: top;\n",
       "    }\n",
       "\n",
       "    .dataframe thead th {\n",
       "        text-align: right;\n",
       "    }\n",
       "</style>\n",
       "<table border=\"1\" class=\"dataframe\">\n",
       "  <thead>\n",
       "    <tr style=\"text-align: right;\">\n",
       "      <th></th>\n",
       "      <th>Unnamed: 0</th>\n",
       "      <th>AAo max area (mm2)</th>\n",
       "      <th>AAo min area (mm2)</th>\n",
       "      <th>DAo max area (mm2)</th>\n",
       "      <th>DAo min area (mm2)</th>\n",
       "    </tr>\n",
       "  </thead>\n",
       "  <tbody>\n",
       "    <tr>\n",
       "      <th>0</th>\n",
       "      <td>0</td>\n",
       "      <td>511.41671</td>\n",
       "      <td>406.125034</td>\n",
       "      <td>386.069477</td>\n",
       "      <td>250.694466</td>\n",
       "    </tr>\n",
       "  </tbody>\n",
       "</table>\n",
       "</div>"
      ],
      "text/plain": [
       "   Unnamed: 0  AAo max area (mm2)  AAo min area (mm2)  DAo max area (mm2)  \\\n",
       "0           0           511.41671          406.125034          386.069477   \n",
       "\n",
       "   DAo min area (mm2)  \n",
       "0          250.694466  "
      ]
     },
     "execution_count": 19,
     "metadata": {},
     "output_type": "execute_result"
    }
   ],
   "source": [
    "df = pd.read_csv(\"test1.csv\")  ##patient2 is 1017621 ##patient3 is 1092403\n",
    "\n",
    "##refer the sheet here https://nuigalwayie-my.sharepoint.com/:x:/r/personal/m_chopra1_nuigalway_ie/_layouts/15/doc2.aspx?sourcedoc=%7B0A793856-5482-47BD-ABB0-2010E5CE0F64%7D&file=Aortic_Distensibility_UKBB.xlsx&action=default&mobileredirect=true&DefaultItemOpen=1&ct=1686580435460&wdOrigin=OFFICECOM-WEB.START.EDGEWORTH&cid=09985107-fae3-4ef1-a049-d3b978a4079e&wdPreviousSessionSrc=HarmonyWeb&wdPreviousSession=abd14032-31ec-4610-ad8b-439099d3123b\n",
    "\n",
    "df"
   ]
  }
 ],
 "metadata": {
  "kernelspec": {
   "display_name": "Python 3 (ipykernel)",
   "language": "python",
   "name": "python3"
  },
  "language_info": {
   "codemirror_mode": {
    "name": "ipython",
    "version": 3
   },
   "file_extension": ".py",
   "mimetype": "text/x-python",
   "name": "python",
   "nbconvert_exporter": "python",
   "pygments_lexer": "ipython3",
   "version": "3.10.10"
  }
 },
 "nbformat": 4,
 "nbformat_minor": 5
}
